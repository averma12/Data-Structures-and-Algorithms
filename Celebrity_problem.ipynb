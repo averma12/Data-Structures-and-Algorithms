{
  "nbformat": 4,
  "nbformat_minor": 0,
  "metadata": {
    "colab": {
      "name": "Celebrity_problem.ipynb",
      "provenance": [],
      "include_colab_link": true
    },
    "kernelspec": {
      "name": "python3",
      "display_name": "Python 3"
    }
  },
  "cells": [
    {
      "cell_type": "markdown",
      "metadata": {
        "id": "view-in-github",
        "colab_type": "text"
      },
      "source": [
        "<a href=\"https://colab.research.google.com/github/averma12/Data-Structures-and-Algorithms/blob/master/Celebrity_problem.ipynb\" target=\"_parent\"><img src=\"https://colab.research.google.com/assets/colab-badge.svg\" alt=\"Open In Colab\"/></a>"
      ]
    },
    {
      "cell_type": "code",
      "metadata": {
        "id": "vXOCtrnsmmNt",
        "colab_type": "code",
        "colab": {}
      },
      "source": [
        "import numpy as np"
      ],
      "execution_count": 0,
      "outputs": []
    },
    {
      "cell_type": "code",
      "metadata": {
        "id": "qCTFC2mV7KDT",
        "colab_type": "code",
        "colab": {}
      },
      "source": [
        "peeps = np.random.randint(0,2,(10,10))"
      ],
      "execution_count": 0,
      "outputs": []
    },
    {
      "cell_type": "code",
      "metadata": {
        "id": "onOZZQs-7Vhi",
        "colab_type": "code",
        "colab": {
          "base_uri": "https://localhost:8080/",
          "height": 187
        },
        "outputId": "b02d1bae-9322-4c99-960c-0f6f4d4ad906"
      },
      "source": [
        "peeps"
      ],
      "execution_count": 7,
      "outputs": [
        {
          "output_type": "execute_result",
          "data": {
            "text/plain": [
              "array([[1, 0, 1, 1, 0, 0, 1, 0, 1, 0],\n",
              "       [0, 0, 1, 0, 1, 1, 1, 0, 1, 1],\n",
              "       [1, 0, 0, 0, 0, 0, 1, 1, 1, 0],\n",
              "       [0, 1, 0, 1, 0, 1, 1, 0, 0, 0],\n",
              "       [0, 0, 1, 0, 0, 0, 0, 1, 0, 0],\n",
              "       [0, 0, 1, 0, 0, 0, 1, 0, 1, 0],\n",
              "       [1, 0, 1, 1, 1, 1, 1, 1, 0, 1],\n",
              "       [0, 1, 1, 0, 1, 1, 1, 1, 0, 0],\n",
              "       [0, 0, 1, 0, 0, 1, 0, 0, 1, 0],\n",
              "       [0, 0, 0, 1, 1, 1, 1, 0, 0, 1]])"
            ]
          },
          "metadata": {
            "tags": []
          },
          "execution_count": 7
        }
      ]
    },
    {
      "cell_type": "code",
      "metadata": {
        "id": "dgzIliDl71uf",
        "colab_type": "code",
        "colab": {}
      },
      "source": [
        "for i in range(peeps.shape[0]):\n",
        "    for j in range(peeps.shape[1]):\n",
        "        if i == j:\n",
        "            peeps[i][j] = 1"
      ],
      "execution_count": 0,
      "outputs": []
    },
    {
      "cell_type": "code",
      "metadata": {
        "id": "67ICn4lJ8_vO",
        "colab_type": "code",
        "colab": {
          "base_uri": "https://localhost:8080/",
          "height": 187
        },
        "outputId": "1e5c0eab-f914-4bc2-f8f5-9a6bc390bfc4"
      },
      "source": [
        "peeps"
      ],
      "execution_count": 9,
      "outputs": [
        {
          "output_type": "execute_result",
          "data": {
            "text/plain": [
              "array([[1, 0, 1, 1, 0, 1, 0, 1, 1, 0],\n",
              "       [1, 1, 1, 0, 1, 0, 0, 0, 1, 0],\n",
              "       [0, 0, 1, 0, 1, 1, 1, 1, 1, 1],\n",
              "       [1, 1, 1, 1, 0, 0, 1, 0, 0, 0],\n",
              "       [0, 1, 0, 1, 1, 1, 1, 1, 1, 0],\n",
              "       [0, 0, 1, 1, 1, 1, 1, 1, 1, 1],\n",
              "       [1, 0, 1, 0, 0, 0, 1, 1, 1, 0],\n",
              "       [0, 0, 1, 0, 1, 1, 1, 1, 0, 1],\n",
              "       [0, 0, 0, 0, 0, 0, 1, 1, 1, 0],\n",
              "       [0, 0, 0, 1, 0, 0, 0, 0, 0, 1]])"
            ]
          },
          "metadata": {
            "tags": []
          },
          "execution_count": 9
        }
      ]
    },
    {
      "cell_type": "code",
      "metadata": {
        "id": "PdA4pfc-9MG0",
        "colab_type": "code",
        "colab": {}
      },
      "source": [
        "peeps[9][3] = 0"
      ],
      "execution_count": 0,
      "outputs": []
    },
    {
      "cell_type": "code",
      "metadata": {
        "id": "QczQC08d9QHp",
        "colab_type": "code",
        "colab": {}
      },
      "source": [
        "peeps = np.array([[1, 0, 1, 1, 0, 1, 0, 1, 1, 0],\n",
        "       [1, 1, 1, 0, 1, 0, 0, 0, 1, 0],\n",
        "       [0, 0, 1, 0, 1, 1, 1, 1, 1, 1],\n",
        "       [1, 1, 1, 1, 0, 0, 1, 0, 0, 0],\n",
        "       [0, 1, 0, 1, 1, 1, 1, 1, 1, 0],\n",
        "       [0, 0, 1, 1, 1, 1, 1, 1, 1, 1],\n",
        "       [1, 0, 1, 0, 0, 0, 1, 1, 1, 0],\n",
        "       [0, 0, 1, 0, 1, 1, 1, 1, 0, 1],\n",
        "       [0, 0, 0, 0, 0, 0, 1, 1, 1, 0],\n",
        "       [0, 0, 0, 0, 0, 0, 0, 0, 0, 1]])"
      ],
      "execution_count": 0,
      "outputs": []
    },
    {
      "cell_type": "code",
      "metadata": {
        "id": "rAwsrRQPDGjt",
        "colab_type": "code",
        "colab": {}
      },
      "source": [
        "peeps[:,-1] = 1"
      ],
      "execution_count": 0,
      "outputs": []
    },
    {
      "cell_type": "code",
      "metadata": {
        "id": "cgL0c-Kx--a_",
        "colab_type": "code",
        "colab": {}
      },
      "source": [
        "def get_celebrity(matrix):\n",
        "    n = len(matrix)\n",
        "    print(n)\n",
        "    u,v = 0,1\n",
        "    for i in range(2,n+1):\n",
        "        if matrix[u][v]:\n",
        "            u = i\n",
        "        else:\n",
        "            v = i\n",
        "    celeb = None\n",
        "    if u == n:\n",
        "        celeb = v\n",
        "    else:\n",
        "        celeb = u\n",
        "    eliminated = False\n",
        "    print(f\"checking for celeb {celeb}\")\n",
        "    for person in range(n):\n",
        "        \n",
        "        if  person != celeb and (matrix[celeb][person] or not matrix[person][celeb]):\n",
        "            eliminated = True\n",
        "    if not eliminated:\n",
        "        print(\"here\",person)\n",
        "        return f\"{celeb} is a celebrity\"\n",
        "    return \"None\""
      ],
      "execution_count": 0,
      "outputs": []
    },
    {
      "cell_type": "code",
      "metadata": {
        "id": "Cy6BIEwyLzvy",
        "colab_type": "code",
        "colab": {
          "base_uri": "https://localhost:8080/",
          "height": 85
        },
        "outputId": "ac9d1593-26aa-4d47-dcb4-d9a9e54f0f93"
      },
      "source": [
        "get_celebrity(peeps)"
      ],
      "execution_count": 19,
      "outputs": [
        {
          "output_type": "stream",
          "text": [
            "10\n",
            "checking for celeb 9\n",
            "here 9\n"
          ],
          "name": "stdout"
        },
        {
          "output_type": "execute_result",
          "data": {
            "text/plain": [
              "'9 is a celebrity'"
            ]
          },
          "metadata": {
            "tags": []
          },
          "execution_count": 19
        }
      ]
    }
  ]
}