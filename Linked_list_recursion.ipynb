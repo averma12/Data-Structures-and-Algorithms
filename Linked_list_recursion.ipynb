{
  "nbformat": 4,
  "nbformat_minor": 0,
  "metadata": {
    "colab": {
      "name": "Linked_list_recursion.ipynb",
      "provenance": [],
      "include_colab_link": true
    },
    "kernelspec": {
      "name": "python3",
      "display_name": "Python 3"
    }
  },
  "cells": [
    {
      "cell_type": "markdown",
      "metadata": {
        "id": "view-in-github",
        "colab_type": "text"
      },
      "source": [
        "<a href=\"https://colab.research.google.com/github/averma12/Data-Structures-and-Algorithms/blob/master/Linked_list_recursion.ipynb\" target=\"_parent\"><img src=\"https://colab.research.google.com/assets/colab-badge.svg\" alt=\"Open In Colab\"/></a>"
      ]
    },
    {
      "cell_type": "code",
      "metadata": {
        "id": "4mf9iRM0LNH4",
        "colab_type": "code",
        "colab": {}
      },
      "source": [
        "class Node:\n",
        "    def __init__(self,data):\n",
        "        self._data = data\n",
        "        self.next = None\n",
        "    \n",
        "    @property\n",
        "    def data(self):\n",
        "        print(\"Property getter\")\n",
        "        return self._data\n",
        "    \n",
        "    @data.setter\n",
        "    def data(self,value):\n",
        "        print(\"setting data\")\n",
        "\n",
        "\n",
        "def reverse_list(head):\n",
        "    print(\"function called\")\n",
        "    print(head.data)\n",
        "    if head is None or head.next is None:\n",
        "        return head\n",
        "    p = head.next\n",
        "    print(\"p\",p.data)\n",
        "    head.next = None\n",
        "    reversed_list = reverse_list(p)\n",
        "    p.next = head\n",
        "    print(f\"final p {p.data} next {p.next.data} and final head {head.data}\")\n",
        "    print(\"hello world\")\n",
        "    return reversed_list\n",
        "\n",
        "node1,node2,node3,node4,node5 = Node(1),Node(2),Node(3),Node(4),Node(5)"
      ],
      "execution_count": 0,
      "outputs": []
    },
    {
      "cell_type": "code",
      "metadata": {
        "id": "AVSPQO9SRhuE",
        "colab_type": "code",
        "colab": {}
      },
      "source": [
        "node1.next = node2\n",
        "node2.next = node3\n",
        "node3.next = node4\n",
        "node4.next = node5"
      ],
      "execution_count": 0,
      "outputs": []
    },
    {
      "cell_type": "code",
      "metadata": {
        "id": "bIpZB4dVRsl6",
        "colab_type": "code",
        "colab": {}
      },
      "source": [
        "def print_list(head):\n",
        "    while head is not None:\n",
        "        print(f\"--> {head.data}\")\n",
        "        head = head.next"
      ],
      "execution_count": 0,
      "outputs": []
    },
    {
      "cell_type": "code",
      "metadata": {
        "id": "h3CqPJkkR5in",
        "colab_type": "code",
        "colab": {}
      },
      "source": [
        "head = node1"
      ],
      "execution_count": 0,
      "outputs": []
    },
    {
      "cell_type": "code",
      "metadata": {
        "id": "CKNP110pR7jX",
        "colab_type": "code",
        "colab": {
          "base_uri": "https://localhost:8080/",
          "height": 187
        },
        "outputId": "12a11dda-0548-45f3-d18d-f4a6b3990b72"
      },
      "source": [
        "print_list(head)"
      ],
      "execution_count": 7,
      "outputs": [
        {
          "output_type": "stream",
          "text": [
            "Property getter\n",
            "--> 1\n",
            "Property getter\n",
            "--> 2\n",
            "Property getter\n",
            "--> 3\n",
            "Property getter\n",
            "--> 4\n",
            "Property getter\n",
            "--> 5\n"
          ],
          "name": "stdout"
        }
      ]
    },
    {
      "cell_type": "code",
      "metadata": {
        "id": "_-4LVgG_UDXg",
        "colab_type": "code",
        "colab": {
          "base_uri": "https://localhost:8080/",
          "height": 51
        },
        "outputId": "f99b189a-9b9f-4cd6-9b9e-daff0615cefe"
      },
      "source": [
        "head.data"
      ],
      "execution_count": 60,
      "outputs": [
        {
          "output_type": "stream",
          "text": [
            "Property getter\n"
          ],
          "name": "stdout"
        },
        {
          "output_type": "execute_result",
          "data": {
            "text/plain": [
              "1"
            ]
          },
          "metadata": {
            "tags": []
          },
          "execution_count": 60
        }
      ]
    },
    {
      "cell_type": "code",
      "metadata": {
        "id": "cncbukX2SFWm",
        "colab_type": "code",
        "colab": {
          "base_uri": "https://localhost:8080/",
          "height": 748
        },
        "outputId": "4e121713-0857-43f3-e6b3-aa49b15a6311"
      },
      "source": [
        "revrest = reverse_list(head)"
      ],
      "execution_count": 71,
      "outputs": [
        {
          "output_type": "stream",
          "text": [
            "function called\n",
            "Property getter\n",
            "1\n",
            "Property getter\n",
            "p 2\n",
            "function called\n",
            "Property getter\n",
            "2\n",
            "Property getter\n",
            "p 3\n",
            "function called\n",
            "Property getter\n",
            "3\n",
            "Property getter\n",
            "p 4\n",
            "function called\n",
            "Property getter\n",
            "4\n",
            "Property getter\n",
            "p 5\n",
            "function called\n",
            "Property getter\n",
            "5\n",
            "Property getter\n",
            "Property getter\n",
            "Property getter\n",
            "final p 5 next 4 and final head 4\n",
            "hello world\n",
            "Property getter\n",
            "Property getter\n",
            "Property getter\n",
            "final p 4 next 3 and final head 3\n",
            "hello world\n",
            "Property getter\n",
            "Property getter\n",
            "Property getter\n",
            "final p 3 next 2 and final head 2\n",
            "hello world\n",
            "Property getter\n",
            "Property getter\n",
            "Property getter\n",
            "final p 2 next 1 and final head 1\n",
            "hello world\n"
          ],
          "name": "stdout"
        }
      ]
    },
    {
      "cell_type": "code",
      "metadata": {
        "id": "P26C-6C7SjOD",
        "colab_type": "code",
        "colab": {
          "base_uri": "https://localhost:8080/",
          "height": 51
        },
        "outputId": "13a70e86-64fb-4120-bb65-7933f2935e67"
      },
      "source": [
        "revrest.data"
      ],
      "execution_count": 37,
      "outputs": [
        {
          "output_type": "stream",
          "text": [
            "Property getter\n"
          ],
          "name": "stdout"
        },
        {
          "output_type": "execute_result",
          "data": {
            "text/plain": [
              "5"
            ]
          },
          "metadata": {
            "tags": []
          },
          "execution_count": 37
        }
      ]
    },
    {
      "cell_type": "code",
      "metadata": {
        "id": "tLhTmV7xSZdv",
        "colab_type": "code",
        "colab": {
          "base_uri": "https://localhost:8080/",
          "height": 187
        },
        "outputId": "394bad5d-7d6a-4f11-98df-068f12ddc20a"
      },
      "source": [
        "print_list(revrest)"
      ],
      "execution_count": 36,
      "outputs": [
        {
          "output_type": "stream",
          "text": [
            "Property getter\n",
            "--> 5\n",
            "Property getter\n",
            "--> 4\n",
            "Property getter\n",
            "--> 3\n",
            "Property getter\n",
            "--> 2\n",
            "Property getter\n",
            "--> 1\n"
          ],
          "name": "stdout"
        }
      ]
    }
  ]
}